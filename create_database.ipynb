{
 "cells": [
  {
   "cell_type": "code",
   "execution_count": 2,
   "id": "ac77bc76",
   "metadata": {},
   "outputs": [],
   "source": [
    "from scholarly import scholarly\n",
    "from tinydb import TinyDB,Query"
   ]
  },
  {
   "cell_type": "markdown",
   "id": "b001c518",
   "metadata": {},
   "source": [
    "## Google Scholar to TinyDB\n",
    "<hr>\n",
    "\n",
    "### database architecture:\n",
    "\n",
    "#### Record for each individual(person):\n",
    "* name:String\n",
    "* interests:Array of Strings\n",
    "* publications:Array of Dictionaries\n",
    "    [\n",
    "    * title:String\n",
    "    * abstract : String\n",
    "    ]"
   ]
  },
  {
   "cell_type": "code",
   "execution_count": null,
   "id": "14fb22d5",
   "metadata": {},
   "outputs": [],
   "source": [
    "db6 = TinyDB(\"authors6.json\")"
   ]
  },
  {
   "cell_type": "code",
   "execution_count": null,
   "id": "755f3a05",
   "metadata": {},
   "outputs": [],
   "source": [
    "def get_info(na=None):\n",
    "    name=na\n",
    "    try:\n",
    "        author = scholarly.fill(next(scholarly.search_author(name)))\n",
    "        #to get a summary of every publication of an author, advanced search will be needed. scholarly.fill does the job here.\n",
    "        #with summary object of a publication, we will be able to fetch the full info of a publication which also contains the summary of the publication.\n",
    "    except Exception as e:\n",
    "        return(f\"No researcher with the name {name} \\n {str(e)}\\n------------\\n\")\n",
    "    interests = author.get(\"interests\")\n",
    "    publications = []\n",
    "    for i in author.get(\"publications\"):\n",
    "        publication = scholarly.fill(i)\n",
    "        publications.append({\"author_pub_id\":publication.get(\"author_pub_id\"),\"title\":publication.get(\"bib\").get(\"title\") , \"abstract\":publication.get(\"bib\").get(\"abstract\")})\n",
    "    return {\"author\":name, \"interests\":interests , \"publications\":publications}"
   ]
  },
  {
   "cell_type": "code",
   "execution_count": null,
   "id": "1ab0292b",
   "metadata": {},
   "outputs": [],
   "source": [
    "hocalar = \"\"\"Adnan KAVAK\n",
    "Yaşar BECERİKLİ\n",
    "Ahmet SAYAR\n",
    "Sevinç ILHAN OMURCA\n",
    "Suhap ŞAHİN\n",
    "Pınar ONAY DURDU\n",
    "Fidan KAYA\n",
    "Burak İNNER\n",
    "Meltem KURT PEHLİVANOĞLU\n",
    "Orhan AKBULUT\n",
    "Alev MUTLU\n",
    "Hikmetcan ÖZCAN\n",
    "Onur GÖK\n",
    "Ömür CAN\n",
    "Burcu KIR SAVAŞ\n",
    "Abdurrahman GÜN\n",
    "Dilara GÖRMEZ\n",
    "Fulya AKDENİZ\n",
    "Furkan GÖZ\n",
    "Muhammed Ahmet DEMİRTAŞ\n",
    "Emin ÖLMEZ\n",
    "İbrahim ŞAHAN\n",
    "Kübra ERAT\n",
    "Gamze KORKMAZ ERDEM\n",
    "Ayşe Gül EKER\n",
    "Yılmaz DİKİLİTAŞ\"\"\".split(\"\\n\")\n",
    "\n",
    "hocalar"
   ]
  },
  {
   "cell_type": "code",
   "execution_count": null,
   "id": "d9e9570e",
   "metadata": {},
   "outputs": [],
   "source": [
    "## Test author\n",
    "\n",
    "for h in hocalar:\n",
    "    try:\n",
    "        author=get_info(h)\n",
    "        #author = scholarly.fill(next(scholarly.search_author(h)))\n",
    "        #publications = [scholarly.fill(author.get(\"publications\")[0])]\n",
    "        db6.insert(author)\n",
    "        print(f\"author {h} has found and saved successfully\")\n",
    "    except Exception as e:\n",
    "        print(f\"no author with name {h} has found\")\n",
    "        print(f\"exception is : {str(e)}\")"
   ]
  },
  {
   "cell_type": "code",
   "execution_count": null,
   "id": "cc572889",
   "metadata": {},
   "outputs": [],
   "source": []
  }
 ],
 "metadata": {
  "kernelspec": {
   "display_name": "Python 3 (ipykernel)",
   "language": "python",
   "name": "python3"
  },
  "language_info": {
   "codemirror_mode": {
    "name": "ipython",
    "version": 3
   },
   "file_extension": ".py",
   "mimetype": "text/x-python",
   "name": "python",
   "nbconvert_exporter": "python",
   "pygments_lexer": "ipython3",
   "version": "3.9.9"
  }
 },
 "nbformat": 4,
 "nbformat_minor": 5
}
